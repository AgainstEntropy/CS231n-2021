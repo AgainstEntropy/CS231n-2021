{
 "cells": [
  {
   "cell_type": "code",
   "execution_count": null,
   "metadata": {},
   "outputs": [],
   "source": [
    "# This mounts your Google Drive to the Colab VM.\n",
    "from google.colab import drive\n",
    "drive.mount('/content/drive', force_remount=True)\n",
    "\n",
    "# Enter the foldername in your Drive where you have saved the unzipped\n",
    "# assignment folder, e.g. 'cs231n/assignments/assignment1/'\n",
    "FOLDERNAME = None\n",
    "assert FOLDERNAME is not None, \"[!] Enter the foldername.\"\n",
    "\n",
    "# Now that we've mounted your Drive, this ensures that\n",
    "# the Python interpreter of the Colab VM can load\n",
    "# python files from within it.\n",
    "import sys\n",
    "sys.path.append('/content/drive/My Drive/{}'.format(FOLDERNAME))\n",
    "\n",
    "# This downloads the CIFAR-10 dataset to your Drive\n",
    "# if it doesn't already exist.\n",
    "%cd drive/My\\ Drive/$FOLDERNAME/cs231n/datasets/\n",
    "!bash get_datasets.sh\n",
    "%cd /content/drive/My\\ Drive/$FOLDERNAME"
   ]
  },
  {
   "cell_type": "markdown",
   "metadata": {
    "tags": [
     "pdf-title"
    ]
   },
   "source": [
    "# Softmax exercise\n",
    "\n",
    "*Complete and hand in this completed worksheet (including its outputs and any supporting code outside of the worksheet) with your assignment submission. For more details see the [assignments page](http://vision.stanford.edu/teaching/cs231n/assignments.html) on the course website.*\n",
    "\n",
    "This exercise is analogous to the SVM exercise. You will:\n",
    "\n",
    "- implement a fully-vectorized **loss function** for the Softmax classifier\n",
    "- implement the fully-vectorized expression for its **analytic gradient**\n",
    "- **check your implementation** with numerical gradient\n",
    "- use a validation set to **tune the learning rate and regularization** strength\n",
    "- **optimize** the loss function with **SGD**\n",
    "- **visualize** the final learned weights\n"
   ]
  },
  {
   "cell_type": "code",
   "execution_count": 2,
   "metadata": {
    "tags": [
     "pdf-ignore"
    ]
   },
   "outputs": [],
   "source": [
    "import random\n",
    "import numpy as np\n",
    "from cs231n.data_utils import load_CIFAR10\n",
    "import matplotlib.pyplot as plt\n",
    "\n",
    "%matplotlib inline\n",
    "plt.rcParams['figure.figsize'] = (10.0, 8.0) # set default size of plots\n",
    "plt.rcParams['image.interpolation'] = 'nearest'\n",
    "plt.rcParams['image.cmap'] = 'gray'\n",
    "\n",
    "# for auto-reloading extenrnal modules\n",
    "# see http://stackoverflow.com/questions/1907993/autoreload-of-modules-in-ipython\n",
    "%load_ext autoreload\n",
    "%autoreload 2"
   ]
  },
  {
   "cell_type": "code",
   "execution_count": 3,
   "metadata": {
    "tags": [
     "pdf-ignore"
    ]
   },
   "outputs": [
    {
     "name": "stdout",
     "output_type": "stream",
     "text": [
      "Train data shape:  (49000, 3073)\n",
      "Train labels shape:  (49000,)\n",
      "Validation data shape:  (1000, 3073)\n",
      "Validation labels shape:  (1000,)\n",
      "Test data shape:  (1000, 3073)\n",
      "Test labels shape:  (1000,)\n",
      "dev data shape:  (500, 3073)\n",
      "dev labels shape:  (500,)\n"
     ]
    }
   ],
   "source": [
    "def get_CIFAR10_data(num_training=49000, num_validation=1000, num_test=1000, num_dev=500):\n",
    "    \"\"\"\n",
    "    Load the CIFAR-10 dataset from disk and perform preprocessing to prepare\n",
    "    it for the linear classifier. These are the same steps as we used for the\n",
    "    SVM, but condensed to a single function.  \n",
    "    \"\"\"\n",
    "    # Load the raw CIFAR-10 data\n",
    "    cifar10_dir = 'cs231n/datasets/cifar-10-batches-py'\n",
    "    \n",
    "    # Cleaning up variables to prevent loading data multiple times (which may cause memory issue)\n",
    "    try:\n",
    "       del X_train, y_train\n",
    "       del X_test, y_test\n",
    "       print('Clear previously loaded data.')\n",
    "    except:\n",
    "       pass\n",
    "\n",
    "    X_train, y_train, X_test, y_test = load_CIFAR10(cifar10_dir)\n",
    "    \n",
    "    # subsample the data\n",
    "    mask = list(range(num_training, num_training + num_validation))\n",
    "    X_val = X_train[mask]\n",
    "    y_val = y_train[mask]\n",
    "    mask = list(range(num_training))\n",
    "    X_train = X_train[mask]\n",
    "    y_train = y_train[mask]\n",
    "    mask = list(range(num_test))\n",
    "    X_test = X_test[mask]\n",
    "    y_test = y_test[mask]\n",
    "    mask = np.random.choice(num_training, num_dev, replace=False)\n",
    "    X_dev = X_train[mask]\n",
    "    y_dev = y_train[mask]\n",
    "    \n",
    "    # Preprocessing: reshape the image data into rows\n",
    "    X_train = np.reshape(X_train, (X_train.shape[0], -1))\n",
    "    X_val = np.reshape(X_val, (X_val.shape[0], -1))\n",
    "    X_test = np.reshape(X_test, (X_test.shape[0], -1))\n",
    "    X_dev = np.reshape(X_dev, (X_dev.shape[0], -1))\n",
    "    \n",
    "    # Normalize the data: subtract the mean image\n",
    "    mean_image = np.mean(X_train, axis = 0)\n",
    "    X_train -= mean_image\n",
    "    X_val -= mean_image\n",
    "    X_test -= mean_image\n",
    "    X_dev -= mean_image\n",
    "    \n",
    "    # add bias dimension and transform into columns\n",
    "    X_train = np.hstack([X_train, np.ones((X_train.shape[0], 1))])\n",
    "    X_val = np.hstack([X_val, np.ones((X_val.shape[0], 1))])\n",
    "    X_test = np.hstack([X_test, np.ones((X_test.shape[0], 1))])\n",
    "    X_dev = np.hstack([X_dev, np.ones((X_dev.shape[0], 1))])\n",
    "    \n",
    "    return X_train, y_train, X_val, y_val, X_test, y_test, X_dev, y_dev\n",
    "\n",
    "\n",
    "# Invoke the above function to get our data.\n",
    "X_train, y_train, X_val, y_val, X_test, y_test, X_dev, y_dev = get_CIFAR10_data()\n",
    "print('Train data shape: ', X_train.shape)\n",
    "print('Train labels shape: ', y_train.shape)\n",
    "print('Validation data shape: ', X_val.shape)\n",
    "print('Validation labels shape: ', y_val.shape)\n",
    "print('Test data shape: ', X_test.shape)\n",
    "print('Test labels shape: ', y_test.shape)\n",
    "print('dev data shape: ', X_dev.shape)\n",
    "print('dev labels shape: ', y_dev.shape)"
   ]
  },
  {
   "cell_type": "markdown",
   "metadata": {},
   "source": [
    "## Softmax Classifier\n",
    "\n",
    "Your code for this section will all be written inside `cs231n/classifiers/softmax.py`.\n"
   ]
  },
  {
   "cell_type": "code",
   "execution_count": 6,
   "metadata": {},
   "outputs": [
    {
     "name": "stdout",
     "output_type": "stream",
     "text": [
      "loss: 2.373667\n",
      "sanity check: 2.302585\n"
     ]
    }
   ],
   "source": [
    "# First implement the naive softmax loss function with nested loops.\n",
    "# Open the file cs231n/classifiers/softmax.py and implement the\n",
    "# softmax_loss_naive function.\n",
    "\n",
    "from cs231n.classifiers.softmax import softmax_loss_naive\n",
    "import time\n",
    "\n",
    "# Generate a random softmax weight matrix and use it to compute the loss.\n",
    "W = np.random.randn(3073, 10) * 0.0001\n",
    "loss, grad = softmax_loss_naive(W, X_dev, y_dev, 0.0)\n",
    "\n",
    "# As a rough sanity check, our loss should be something close to -log(0.1).\n",
    "print('loss: %f' % loss)\n",
    "print('sanity check: %f' % (-np.log(0.1)))"
   ]
  },
  {
   "cell_type": "markdown",
   "metadata": {
    "tags": [
     "pdf-inline"
    ]
   },
   "source": [
    "**Inline Question 1**\n",
    "\n",
    "Why do we expect our loss to be close to -log(0.1)? Explain briefly.**\n",
    "\n",
    "$\\color{green}{\\textit Your Answer:}$\n",
    "*Because we expect that the \"probability\" of each class distributes almost uniformly, so each class share a probability\n",
    "of almost 1/10, corresponding to the number in the log.*\n"
   ]
  },
  {
   "cell_type": "code",
   "execution_count": 7,
   "metadata": {},
   "outputs": [
    {
     "name": "stdout",
     "output_type": "stream",
     "text": [
      "numerical: -0.002802 analytic: -0.002803, relative error: 1.200879e-05\n",
      "numerical: 0.962024 analytic: 0.962024, relative error: 4.905932e-08\n",
      "numerical: 0.175247 analytic: 0.175247, relative error: 3.784236e-08\n",
      "numerical: 0.001365 analytic: 0.001365, relative error: 4.662426e-05\n",
      "numerical: -2.095199 analytic: -2.095199, relative error: 3.310960e-09\n",
      "numerical: 0.587053 analytic: 0.587053, relative error: 2.300794e-08\n",
      "numerical: 2.113734 analytic: 2.113734, relative error: 3.361326e-09\n",
      "numerical: -1.045159 analytic: -1.045159, relative error: 2.017495e-08\n",
      "numerical: 2.794463 analytic: 2.794463, relative error: 7.798470e-09\n",
      "numerical: 1.788148 analytic: 1.788148, relative error: 2.761719e-09\n",
      "numerical: -1.199930 analytic: -1.199930, relative error: 2.717737e-08\n",
      "numerical: -0.426491 analytic: -0.426491, relative error: 7.880452e-08\n",
      "numerical: -0.558898 analytic: -0.558898, relative error: 1.113313e-07\n",
      "numerical: 1.522138 analytic: 1.522138, relative error: 1.994896e-09\n",
      "numerical: 0.527859 analytic: 0.527859, relative error: 2.011998e-08\n",
      "numerical: 0.144998 analytic: 0.144998, relative error: 2.140731e-07\n",
      "numerical: -0.960246 analytic: -0.960246, relative error: 5.673520e-08\n",
      "numerical: 4.980097 analytic: 4.980097, relative error: 1.586563e-08\n",
      "numerical: -0.370638 analytic: -0.370638, relative error: 5.295810e-08\n",
      "numerical: -0.515026 analytic: -0.515026, relative error: 1.278731e-07\n"
     ]
    }
   ],
   "source": [
    "# Complete the implementation of softmax_loss_naive and implement a (naive)\n",
    "# version of the gradient that uses nested loops.\n",
    "loss, grad = softmax_loss_naive(W, X_dev, y_dev, 0.0)\n",
    "\n",
    "# As we did for the SVM, use numeric gradient checking as a debugging tool.\n",
    "# The numeric gradient should be close to the analytic gradient.\n",
    "from cs231n.gradient_check import grad_check_sparse\n",
    "f = lambda w: softmax_loss_naive(w, X_dev, y_dev, 0.0)[0]\n",
    "grad_numerical = grad_check_sparse(f, W, grad, 10)\n",
    "\n",
    "# similar to SVM case, do another gradient check with regularization\n",
    "loss, grad = softmax_loss_naive(W, X_dev, y_dev, 5e1)\n",
    "f = lambda w: softmax_loss_naive(w, X_dev, y_dev, 5e1)[0]\n",
    "grad_numerical = grad_check_sparse(f, W, grad, 10)"
   ]
  },
  {
   "cell_type": "code",
   "execution_count": 9,
   "metadata": {},
   "outputs": [
    {
     "name": "stdout",
     "output_type": "stream",
     "text": [
      "naive loss: 2.373667e+00 computed in 0.177141s\n",
      "vectorized loss: 2.373667e+00 computed in 0.008589s\n",
      "Loss difference: 0.000000\n",
      "Gradient difference: 0.000000\n"
     ]
    }
   ],
   "source": [
    "# Now that we have a naive implementation of the softmax loss function and its gradient,\n",
    "# implement a vectorized version in softmax_loss_vectorized.\n",
    "# The two versions should compute the same results, but the vectorized version should be\n",
    "# much faster.\n",
    "tic = time.time()\n",
    "loss_naive, grad_naive = softmax_loss_naive(W, X_dev, y_dev, 0.000005)\n",
    "toc = time.time()\n",
    "print('naive loss: %e computed in %fs' % (loss_naive, toc - tic))\n",
    "\n",
    "from cs231n.classifiers.softmax import softmax_loss_vectorized\n",
    "tic = time.time()\n",
    "loss_vectorized, grad_vectorized = softmax_loss_vectorized(W, X_dev, y_dev, 0.000005)\n",
    "toc = time.time()\n",
    "print('vectorized loss: %e computed in %fs' % (loss_vectorized, toc - tic))\n",
    "\n",
    "# As we did for the SVM, we use the Frobenius norm to compare the two versions\n",
    "# of the gradient.\n",
    "grad_difference = np.linalg.norm(grad_naive - grad_vectorized, ord='fro')\n",
    "print('Loss difference: %f' % np.abs(loss_naive - loss_vectorized))\n",
    "print('Gradient difference: %f' % grad_difference)"
   ]
  },
  {
   "cell_type": "code",
   "execution_count": 12,
   "metadata": {
    "id": "tuning",
    "tags": [
     "code"
    ]
   },
   "outputs": [
    {
     "name": "stdout",
     "output_type": "stream",
     "text": [
      "iteration 0 / 100: loss 623.533754\n",
      "iteration 0 / 100: loss 772.233520\n",
      "iteration 0 / 100: loss 926.165564\n",
      "iteration 0 / 100: loss 1076.477571\n",
      "iteration 0 / 100: loss 1226.530972\n",
      "iteration 0 / 100: loss 1398.097372\n",
      "iteration 0 / 100: loss 1561.123550\n",
      "iteration 0 / 100: loss 1701.906440\n",
      "iteration 0 / 100: loss 621.368965\n",
      "iteration 0 / 100: loss 776.342894\n",
      "iteration 0 / 100: loss 930.696046\n",
      "iteration 0 / 100: loss 1082.406759\n",
      "iteration 0 / 100: loss 1236.130794\n",
      "iteration 0 / 100: loss 1398.164948\n",
      "iteration 0 / 100: loss 1524.610829\n",
      "iteration 0 / 100: loss 1706.706231\n",
      "iteration 0 / 100: loss 619.692256\n",
      "iteration 0 / 100: loss 774.371408\n",
      "iteration 0 / 100: loss 934.932218\n",
      "iteration 0 / 100: loss 1084.481743\n",
      "iteration 0 / 100: loss 1250.984471\n",
      "iteration 0 / 100: loss 1406.479222\n",
      "iteration 0 / 100: loss 1541.969848\n",
      "iteration 0 / 100: loss 1709.661986\n",
      "iteration 0 / 100: loss 618.509085\n",
      "iteration 0 / 100: loss 772.639921\n",
      "iteration 0 / 100: loss 922.236115\n",
      "iteration 0 / 100: loss 1090.879492\n",
      "iteration 0 / 100: loss 1225.794351\n",
      "iteration 0 / 100: loss 1377.313011\n",
      "iteration 0 / 100: loss 1535.571796\n",
      "iteration 0 / 100: loss 1683.915747\n",
      "iteration 0 / 100: loss 628.467572\n",
      "iteration 0 / 100: loss 760.670943\n",
      "iteration 0 / 100: loss 925.576519\n",
      "iteration 0 / 100: loss 1073.566085\n",
      "iteration 0 / 100: loss 1242.774097\n",
      "iteration 0 / 100: loss 1383.257457\n",
      "iteration 0 / 100: loss 1546.709409\n",
      "iteration 0 / 100: loss 1695.019337\n",
      "iteration 0 / 100: loss 624.131499\n",
      "iteration 0 / 100: loss 769.226207\n",
      "iteration 0 / 100: loss 916.221014\n",
      "iteration 0 / 100: loss 1086.607679\n",
      "iteration 0 / 100: loss 1229.389452\n",
      "iteration 0 / 100: loss 1384.794658\n",
      "iteration 0 / 100: loss 1522.491613\n",
      "iteration 0 / 100: loss 1678.377831\n",
      "iteration 0 / 100: loss 605.259656\n",
      "iteration 0 / 100: loss 766.699633\n",
      "iteration 0 / 100: loss 929.824541\n",
      "iteration 0 / 100: loss 1072.926235\n",
      "iteration 0 / 100: loss 1242.012452\n",
      "iteration 0 / 100: loss 1373.915680\n",
      "iteration 0 / 100: loss 1533.686783\n",
      "iteration 0 / 100: loss 1680.193559\n",
      "iteration 0 / 100: loss 623.013437\n",
      "iteration 0 / 100: loss 781.218922\n",
      "iteration 0 / 100: loss 925.364361\n",
      "iteration 0 / 100: loss 1098.687250\n",
      "iteration 0 / 100: loss 1241.018759\n",
      "iteration 0 / 100: loss 1391.470571\n",
      "iteration 0 / 100: loss 1536.520550\n",
      "iteration 0 / 100: loss 1674.670278\n",
      "iteration 0 / 100: loss 625.461927\n",
      "iteration 0 / 100: loss 789.345923\n",
      "iteration 0 / 100: loss 932.216811\n",
      "iteration 0 / 100: loss 1069.976325\n",
      "iteration 0 / 100: loss 1229.264538\n",
      "iteration 0 / 100: loss 1396.007639\n",
      "iteration 0 / 100: loss 1529.200711\n",
      "iteration 0 / 100: loss 1677.804863\n",
      "iteration 0 / 100: loss 624.770515\n",
      "iteration 0 / 100: loss 785.086373\n",
      "iteration 0 / 100: loss 928.048490\n",
      "iteration 0 / 100: loss 1072.910913\n",
      "iteration 0 / 100: loss 1232.076140\n",
      "iteration 0 / 100: loss 1390.471905\n",
      "iteration 0 / 100: loss 1555.761956\n",
      "iteration 0 / 100: loss 1704.724351\n",
      "lr 4.000000e-07 reg 2.000000e+04 train accuracy: 0.257571 val accuracy: 0.259000\n",
      "lr 4.000000e-07 reg 2.500000e+04 train accuracy: 0.288816 val accuracy: 0.292000\n",
      "lr 4.000000e-07 reg 3.000000e+04 train accuracy: 0.287449 val accuracy: 0.310000\n",
      "lr 4.000000e-07 reg 3.500000e+04 train accuracy: 0.304306 val accuracy: 0.320000\n",
      "lr 4.000000e-07 reg 4.000000e+04 train accuracy: 0.309306 val accuracy: 0.315000\n",
      "lr 4.000000e-07 reg 4.500000e+04 train accuracy: 0.311755 val accuracy: 0.322000\n",
      "lr 4.000000e-07 reg 5.000000e+04 train accuracy: 0.297755 val accuracy: 0.318000\n",
      "lr 4.000000e-07 reg 5.500000e+04 train accuracy: 0.291408 val accuracy: 0.302000\n",
      "lr 4.200000e-07 reg 2.000000e+04 train accuracy: 0.264306 val accuracy: 0.291000\n",
      "lr 4.200000e-07 reg 2.500000e+04 train accuracy: 0.284143 val accuracy: 0.301000\n",
      "lr 4.200000e-07 reg 3.000000e+04 train accuracy: 0.297286 val accuracy: 0.309000\n",
      "lr 4.200000e-07 reg 3.500000e+04 train accuracy: 0.305510 val accuracy: 0.332000\n",
      "lr 4.200000e-07 reg 4.000000e+04 train accuracy: 0.312306 val accuracy: 0.327000\n",
      "lr 4.200000e-07 reg 4.500000e+04 train accuracy: 0.295429 val accuracy: 0.310000\n",
      "lr 4.200000e-07 reg 5.000000e+04 train accuracy: 0.302306 val accuracy: 0.304000\n",
      "lr 4.200000e-07 reg 5.500000e+04 train accuracy: 0.306980 val accuracy: 0.310000\n",
      "lr 4.400000e-07 reg 2.000000e+04 train accuracy: 0.284694 val accuracy: 0.309000\n",
      "lr 4.400000e-07 reg 2.500000e+04 train accuracy: 0.293327 val accuracy: 0.280000\n",
      "lr 4.400000e-07 reg 3.000000e+04 train accuracy: 0.305612 val accuracy: 0.314000\n",
      "lr 4.400000e-07 reg 3.500000e+04 train accuracy: 0.303347 val accuracy: 0.307000\n",
      "lr 4.400000e-07 reg 4.000000e+04 train accuracy: 0.296714 val accuracy: 0.303000\n",
      "lr 4.400000e-07 reg 4.500000e+04 train accuracy: 0.310878 val accuracy: 0.319000\n",
      "lr 4.400000e-07 reg 5.000000e+04 train accuracy: 0.289061 val accuracy: 0.302000\n",
      "lr 4.400000e-07 reg 5.500000e+04 train accuracy: 0.309755 val accuracy: 0.319000\n",
      "lr 4.600000e-07 reg 2.000000e+04 train accuracy: 0.286592 val accuracy: 0.302000\n",
      "lr 4.600000e-07 reg 2.500000e+04 train accuracy: 0.310204 val accuracy: 0.311000\n",
      "lr 4.600000e-07 reg 3.000000e+04 train accuracy: 0.309571 val accuracy: 0.311000\n",
      "lr 4.600000e-07 reg 3.500000e+04 train accuracy: 0.313959 val accuracy: 0.318000\n",
      "lr 4.600000e-07 reg 4.000000e+04 train accuracy: 0.305776 val accuracy: 0.316000\n",
      "lr 4.600000e-07 reg 4.500000e+04 train accuracy: 0.307755 val accuracy: 0.323000\n",
      "lr 4.600000e-07 reg 5.000000e+04 train accuracy: 0.303980 val accuracy: 0.330000\n",
      "lr 4.600000e-07 reg 5.500000e+04 train accuracy: 0.305143 val accuracy: 0.322000\n",
      "lr 4.800000e-07 reg 2.000000e+04 train accuracy: 0.283020 val accuracy: 0.290000\n",
      "lr 4.800000e-07 reg 2.500000e+04 train accuracy: 0.301429 val accuracy: 0.307000\n",
      "lr 4.800000e-07 reg 3.000000e+04 train accuracy: 0.310306 val accuracy: 0.308000\n",
      "lr 4.800000e-07 reg 3.500000e+04 train accuracy: 0.309163 val accuracy: 0.309000\n",
      "lr 4.800000e-07 reg 4.000000e+04 train accuracy: 0.306388 val accuracy: 0.328000\n",
      "lr 4.800000e-07 reg 4.500000e+04 train accuracy: 0.308531 val accuracy: 0.321000\n",
      "lr 4.800000e-07 reg 5.000000e+04 train accuracy: 0.304857 val accuracy: 0.301000\n",
      "lr 4.800000e-07 reg 5.500000e+04 train accuracy: 0.302816 val accuracy: 0.323000\n",
      "lr 5.000000e-07 reg 2.000000e+04 train accuracy: 0.288204 val accuracy: 0.304000\n",
      "lr 5.000000e-07 reg 2.500000e+04 train accuracy: 0.299633 val accuracy: 0.309000\n",
      "lr 5.000000e-07 reg 3.000000e+04 train accuracy: 0.310816 val accuracy: 0.330000\n",
      "lr 5.000000e-07 reg 3.500000e+04 train accuracy: 0.315694 val accuracy: 0.321000\n",
      "lr 5.000000e-07 reg 4.000000e+04 train accuracy: 0.300612 val accuracy: 0.320000\n",
      "lr 5.000000e-07 reg 4.500000e+04 train accuracy: 0.311041 val accuracy: 0.320000\n",
      "lr 5.000000e-07 reg 5.000000e+04 train accuracy: 0.308245 val accuracy: 0.313000\n",
      "lr 5.000000e-07 reg 5.500000e+04 train accuracy: 0.284490 val accuracy: 0.303000\n",
      "lr 5.200000e-07 reg 2.000000e+04 train accuracy: 0.301653 val accuracy: 0.300000\n",
      "lr 5.200000e-07 reg 2.500000e+04 train accuracy: 0.307245 val accuracy: 0.324000\n",
      "lr 5.200000e-07 reg 3.000000e+04 train accuracy: 0.314878 val accuracy: 0.328000\n",
      "lr 5.200000e-07 reg 3.500000e+04 train accuracy: 0.317633 val accuracy: 0.331000\n",
      "lr 5.200000e-07 reg 4.000000e+04 train accuracy: 0.311184 val accuracy: 0.333000\n",
      "lr 5.200000e-07 reg 4.500000e+04 train accuracy: 0.309184 val accuracy: 0.317000\n",
      "lr 5.200000e-07 reg 5.000000e+04 train accuracy: 0.300429 val accuracy: 0.310000\n",
      "lr 5.200000e-07 reg 5.500000e+04 train accuracy: 0.286592 val accuracy: 0.305000\n",
      "lr 5.400000e-07 reg 2.000000e+04 train accuracy: 0.299286 val accuracy: 0.291000\n",
      "lr 5.400000e-07 reg 2.500000e+04 train accuracy: 0.317224 val accuracy: 0.322000\n",
      "lr 5.400000e-07 reg 3.000000e+04 train accuracy: 0.320735 val accuracy: 0.339000\n",
      "lr 5.400000e-07 reg 3.500000e+04 train accuracy: 0.306245 val accuracy: 0.331000\n",
      "lr 5.400000e-07 reg 4.000000e+04 train accuracy: 0.299490 val accuracy: 0.319000\n",
      "lr 5.400000e-07 reg 4.500000e+04 train accuracy: 0.301388 val accuracy: 0.317000\n",
      "lr 5.400000e-07 reg 5.000000e+04 train accuracy: 0.304490 val accuracy: 0.311000\n",
      "lr 5.400000e-07 reg 5.500000e+04 train accuracy: 0.299510 val accuracy: 0.306000\n",
      "lr 5.600000e-07 reg 2.000000e+04 train accuracy: 0.305000 val accuracy: 0.297000\n",
      "lr 5.600000e-07 reg 2.500000e+04 train accuracy: 0.318735 val accuracy: 0.343000\n",
      "lr 5.600000e-07 reg 3.000000e+04 train accuracy: 0.320837 val accuracy: 0.319000\n",
      "lr 5.600000e-07 reg 3.500000e+04 train accuracy: 0.323184 val accuracy: 0.319000\n",
      "lr 5.600000e-07 reg 4.000000e+04 train accuracy: 0.312673 val accuracy: 0.326000\n",
      "lr 5.600000e-07 reg 4.500000e+04 train accuracy: 0.302980 val accuracy: 0.311000\n",
      "lr 5.600000e-07 reg 5.000000e+04 train accuracy: 0.308122 val accuracy: 0.318000\n",
      "lr 5.600000e-07 reg 5.500000e+04 train accuracy: 0.300571 val accuracy: 0.315000\n",
      "lr 5.800000e-07 reg 2.000000e+04 train accuracy: 0.305918 val accuracy: 0.315000\n",
      "lr 5.800000e-07 reg 2.500000e+04 train accuracy: 0.315122 val accuracy: 0.319000\n",
      "lr 5.800000e-07 reg 3.000000e+04 train accuracy: 0.309878 val accuracy: 0.329000\n",
      "lr 5.800000e-07 reg 3.500000e+04 train accuracy: 0.316796 val accuracy: 0.318000\n",
      "lr 5.800000e-07 reg 4.000000e+04 train accuracy: 0.316510 val accuracy: 0.326000\n",
      "lr 5.800000e-07 reg 4.500000e+04 train accuracy: 0.295041 val accuracy: 0.306000\n",
      "lr 5.800000e-07 reg 5.000000e+04 train accuracy: 0.308347 val accuracy: 0.316000\n",
      "lr 5.800000e-07 reg 5.500000e+04 train accuracy: 0.300388 val accuracy: 0.318000\n",
      "best validation accuracy achieved during cross-validation: 0.343000\n"
     ]
    }
   ],
   "source": [
    "# Use the validation set to tune hyperparameters (regularization strength and\n",
    "# learning rate). You should experiment with different ranges for the learning\n",
    "# rates and regularization strengths; if you are careful you should be able to\n",
    "# get a classification accuracy of over 0.35 on the validation set.\n",
    "\n",
    "from cs231n.classifiers import Softmax\n",
    "results = {}\n",
    "best_val = -1\n",
    "best_softmax = None\n",
    "\n",
    "################################################################################\n",
    "# TODO:                                                                        #\n",
    "# Use the validation set to set the learning rate and regularization strength. #\n",
    "# This should be identical to the validation that you did for the SVM; save    #\n",
    "# the best trained softmax classifer in best_softmax.                          #\n",
    "################################################################################\n",
    "\n",
    "# Provided as a reference. You may or may not want to change these hyperparameters\n",
    "# learning_rates = [1e-7, 5e-7]\n",
    "# regularization_strengths = [2.5e4, 5e4]\n",
    "learning_rates = np.arange(4e-7, 6e-7, 2e-8)\n",
    "regularization_strengths = np.arange(2e4, 6e4, 5e3)\n",
    "\n",
    "# *****START OF YOUR CODE (DO NOT DELETE/MODIFY THIS LINE)*****\n",
    "from cs231n.classifiers import Softmax\n",
    "\n",
    "for lr in learning_rates:\n",
    "    for reg in regularization_strengths:\n",
    "        softmax = Softmax()\n",
    "        softmax.train(X_train, y_train, lr, reg, verbose=True)\n",
    "\n",
    "        y_train_pred = softmax.predict(X_train)\n",
    "        train_acc = np.mean(y_train == y_train_pred)\n",
    "        y_val_pred = softmax.predict(X_val)\n",
    "        val_acc = np.mean(y_val == y_val_pred)\n",
    "\n",
    "        results[(lr, reg)] = (train_acc, val_acc)\n",
    "\n",
    "        if val_acc > best_val:\n",
    "            best_val = val_acc\n",
    "            best_softmax = softmax\n",
    "\n",
    "# *****END OF YOUR CODE (DO NOT DELETE/MODIFY THIS LINE)*****\n",
    "    \n",
    "# Print out results.\n",
    "for lr, reg in sorted(results):\n",
    "    train_accuracy, val_accuracy = results[(lr, reg)]\n",
    "    print('lr %e reg %e train accuracy: %f val accuracy: %f' % (\n",
    "                lr, reg, train_accuracy, val_accuracy))\n",
    "    \n",
    "print('best validation accuracy achieved during cross-validation: %f' % best_val)"
   ]
  },
  {
   "cell_type": "code",
   "execution_count": 16,
   "metadata": {
    "id": "test"
   },
   "outputs": [
    {
     "name": "stdout",
     "output_type": "stream",
     "text": [
      "softmax on raw pixels final test set accuracy: 0.330000\n"
     ]
    }
   ],
   "source": [
    "# retrain the best softmax classifier\n",
    "best_softmax.train(X_train, y_train, learning_rate=5.6e-7, reg=2.5e4, num_iters=1000, verbose=False)\n",
    "\n",
    "# evaluate on test set\n",
    "# Evaluate the best softmax on test set\n",
    "y_test_pred = best_softmax.predict(X_test)\n",
    "test_accuracy = np.mean(y_test == y_test_pred)\n",
    "print('softmax on raw pixels final test set accuracy: %f' % (test_accuracy, ))"
   ]
  },
  {
   "cell_type": "markdown",
   "metadata": {
    "tags": [
     "pdf-inline"
    ]
   },
   "source": [
    "**Inline Question 2** - *True or False*\n",
    "\n",
    "Suppose the overall training loss is defined as the sum of the per-datapoint loss over all training examples. It is possible to add a new datapoint to a training set that would leave the SVM loss unchanged, but this is not the case with the Softmax classifier loss.\n",
    "\n",
    "$\\color{green}{\\textit Your Answer:}$\n",
    "\n",
    "\n",
    "$\\color{green}{\\textit Your Explanation:}$\n",
    "\n"
   ]
  },
  {
   "cell_type": "code",
   "execution_count": 17,
   "metadata": {},
   "outputs": [
    {
     "data": {
      "text/plain": "<Figure size 720x576 with 10 Axes>",
      "image/png": "[encoded data removed]"
     },
     "metadata": {
      "needs_background": "light"
     },
     "output_type": "display_data"
    }
   ],
   "source": [
    "# Visualize the learned weights for each class\n",
    "w = best_softmax.W[:-1,:] # strip out the bias\n",
    "w = w.reshape(32, 32, 3, 10)\n",
    "\n",
    "w_min, w_max = np.min(w), np.max(w)\n",
    "\n",
    "classes = ['plane', 'car', 'bird', 'cat', 'deer', 'dog', 'frog', 'horse', 'ship', 'truck']\n",
    "for i in range(10):\n",
    "    plt.subplot(2, 5, i + 1)\n",
    "    \n",
    "    # Rescale the weights to be between 0 and 255\n",
    "    wimg = 255.0 * (w[:, :, :, i].squeeze() - w_min) / (w_max - w_min)\n",
    "    plt.imshow(wimg.astype('uint8'))\n",
    "    plt.axis('off')\n",
    "    plt.title(classes[i])"
   ]
  },
  {
   "cell_type": "code",
   "execution_count": null,
   "metadata": {},
   "outputs": [],
   "source": []
  }
 ],
 "metadata": {
  "kernelspec": {
   "name": "python3",
   "language": "python",
   "display_name": "Python 3 (ipykernel)"
  }
 },
 "nbformat": 4,
 "nbformat_minor": 4
}